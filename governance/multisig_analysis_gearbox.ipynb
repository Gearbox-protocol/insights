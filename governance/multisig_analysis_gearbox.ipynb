{
 "cells": [
  {
   "cell_type": "code",
   "execution_count": 1,
   "metadata": {
    "id": "N_ppb5wcp7qx"
   },
   "outputs": [],
   "source": [
    "import requests\n",
    "from dateutil.parser import parse\n",
    "from toolz import concat\n",
    "import pandas as pd\n",
    "import matplotlib.pyplot as plt\n",
    "from datetime import datetime, timezone\n",
    "import time"
   ]
  },
  {
   "cell_type": "code",
   "execution_count": 2,
   "metadata": {
    "id": "Hc33Of2Kp7qy"
   },
   "outputs": [],
   "source": [
    "safes = {\n",
    "    'Ethereum':{\n",
    "        'tech':'0xA7D5DDc1b8557914F158076b228AA91eF613f1D5',\n",
    "        'treasury':'0x7b065Fcb0760dF0CEA8CFd144e08554F3CeA73D1',\n",
    "        'fee':'0x3E965117A51186e41c2BB58b729A1e518A715e5F'\n",
    "    },\n",
    "    'Arbitrum':{\n",
    "        'tech':'0x57Fd8B1a9213624157786Fff4a7bc532Ce717773',\n",
    "        'fee':'0x2c31eFFE426765E68A43163A96DD13DF70B53C14'\n",
    "    },\n",
    "    'Optimism':{\n",
    "        'tech':'0x8bA8cd6D00919ceCc19D9B4A2c8669a524883C4c',\n",
    "        'fee':'0x1ACc5BC353f23B901801f3Ba48e1E51a14263808'\n",
    "    },\n",
    "}\n",
    "\n",
    "\n",
    "\n",
    "def get_safe_transactions(address, chain):\n",
    "    safe_urls = {\n",
    "        'Ethereum':'https://safe-transaction-mainnet.safe.global',\n",
    "        'Arbitrum':'https://safe-transaction-arbitrum.safe.global',\n",
    "        'Optimism':'https://safe-transaction-optimism.safe.global'\n",
    "    }\n",
    "    base_url = safe_urls[chain]\n",
    "    transactions = []\n",
    "    next_page = f\"{base_url}/api/v1/safes/{address}/multisig-transactions/\"\n",
    "\n",
    "    while next_page:\n",
    "      print(next_page)\n",
    "      data = requests.get(next_page).json()\n",
    "      next_page = data[\"next\"]\n",
    "      transactions.extend(data['results'])\n",
    "      if len(transactions) > 0:\n",
    "        if parse(transactions[-1]['submissionDate']) < datetime(2024, 1, 1, tzinfo=timezone.utc):\n",
    "            break\n",
    "\n",
    "    return transactions"
   ]
  },
  {
   "cell_type": "code",
   "execution_count": 3,
   "metadata": {
    "id": "gsLlHEgep7qy"
   },
   "outputs": [],
   "source": [
    "def parse_transaction(tx):\n",
    "    base = {\n",
    "        'nonce': tx['nonce'],\n",
    "        'safe_tx_hash': tx['safeTxHash'],\n",
    "        'submission_date': parse(tx['submissionDate']),\n",
    "        'execution_date': parse(tx['executionDate']) if tx['executionDate'] else None,\n",
    "        'is_executed': tx['isExecuted']\n",
    "    }\n",
    "    confs = []\n",
    "    for conf in tx['confirmations']:\n",
    "        confs.append({\n",
    "            **base,\n",
    "            'owner': conf['owner'],\n",
    "            'confirmation_date': parse(conf['submissionDate']),\n",
    "        })\n",
    "    return confs"
   ]
  },
  {
   "cell_type": "code",
   "execution_count": 4,
   "metadata": {
    "id": "mHIrcpllp7qz"
   },
   "outputs": [],
   "source": [
    "def get_confirmations(transactions):\n",
    "    txs = list(concat(map(parse_transaction, transactions)))\n",
    "    df = pd.DataFrame(txs)\n",
    "    return df"
   ]
  },
  {
   "cell_type": "code",
   "execution_count": 5,
   "metadata": {
    "colab": {
     "base_uri": "https://localhost:8080/"
    },
    "id": "Op_slpxDsHT_",
    "outputId": "a3032623-03a0-48ea-cb34-de50ac104429"
   },
   "outputs": [
    {
     "name": "stdout",
     "output_type": "stream",
     "text": [
      "https://safe-transaction-mainnet.safe.global/api/v1/safes/0xA7D5DDc1b8557914F158076b228AA91eF613f1D5/multisig-transactions/\n",
      "https://safe-transaction-mainnet.safe.global/api/v1/safes/0xA7D5DDc1b8557914F158076b228AA91eF613f1D5/multisig-transactions/?limit=100&offset=100\n",
      "https://safe-transaction-mainnet.safe.global/api/v1/safes/0xA7D5DDc1b8557914F158076b228AA91eF613f1D5/multisig-transactions/?limit=100&offset=200\n",
      "https://safe-transaction-mainnet.safe.global/api/v1/safes/0x7b065Fcb0760dF0CEA8CFd144e08554F3CeA73D1/multisig-transactions/\n",
      "https://safe-transaction-mainnet.safe.global/api/v1/safes/0x3E965117A51186e41c2BB58b729A1e518A715e5F/multisig-transactions/\n",
      "https://safe-transaction-arbitrum.safe.global/api/v1/safes/0x57Fd8B1a9213624157786Fff4a7bc532Ce717773/multisig-transactions/\n",
      "https://safe-transaction-arbitrum.safe.global/api/v1/safes/0x57Fd8B1a9213624157786Fff4a7bc532Ce717773/multisig-transactions/?limit=100&offset=100\n",
      "https://safe-transaction-arbitrum.safe.global/api/v1/safes/0x2c31eFFE426765E68A43163A96DD13DF70B53C14/multisig-transactions/\n",
      "https://safe-transaction-optimism.safe.global/api/v1/safes/0x8bA8cd6D00919ceCc19D9B4A2c8669a524883C4c/multisig-transactions/\n",
      "https://safe-transaction-optimism.safe.global/api/v1/safes/0x1ACc5BC353f23B901801f3Ba48e1E51a14263808/multisig-transactions/\n"
     ]
    }
   ],
   "source": [
    "safe_txs = {}\n",
    "for chain, name_address in safes.items():\n",
    "  for name, address in name_address.items():\n",
    "    safe_txs[chain + ' ' + name] = get_safe_transactions(address, chain)"
   ]
  },
  {
   "cell_type": "code",
   "execution_count": 7,
   "metadata": {
    "id": "OmYg6HvTumvL"
   },
   "outputs": [],
   "source": [
    "confirmations = {\n",
    "    name: get_confirmations(txs)\n",
    "    for name, txs\n",
    "    in safe_txs.items()\n",
    "}"
   ]
  },
  {
   "cell_type": "code",
   "execution_count": null,
   "metadata": {},
   "outputs": [],
   "source": []
  },
  {
   "cell_type": "code",
   "execution_count": 8,
   "metadata": {
    "colab": {
     "base_uri": "https://localhost:8080/"
    },
    "id": "SzbMN4mWxTqt",
    "outputId": "9a7b96d1-4c77-4eee-e942-0b06bd19ae00"
   },
   "outputs": [
    {
     "data": {
      "text/plain": [
       "['Ethereum tech',\n",
       " 'Ethereum treasury',\n",
       " 'Ethereum fee',\n",
       " 'Arbitrum tech',\n",
       " 'Arbitrum fee',\n",
       " 'Optimism tech',\n",
       " 'Optimism fee']"
      ]
     },
     "execution_count": 8,
     "metadata": {},
     "output_type": "execute_result"
    }
   ],
   "source": [
    "[safe for safe in safe_txs]"
   ]
  },
  {
   "cell_type": "code",
   "execution_count": 9,
   "metadata": {
    "id": "30T7en8Cp7q0"
   },
   "outputs": [],
   "source": [
    "def count_multisends(tx):\n",
    "    data = tx['dataDecoded']\n",
    "    if data and data['method'] == 'multiSend':\n",
    "        return len(data['parameters'][0]['valueDecoded'])\n",
    "    else:\n",
    "        return 1\n",
    "\n",
    "\n",
    "def parse_transaction_alt(safe, tx):\n",
    "    return {\n",
    "        'safe': safe,\n",
    "        'nonce': tx['nonce'],\n",
    "        'safe_tx_hash': tx['safeTxHash'],\n",
    "        'submission_date': parse(tx['submissionDate']),\n",
    "        'execution_date': parse(tx['executionDate']) if tx['executionDate'] else None,\n",
    "        'multisend': count_multisends(tx),\n",
    "        'fee': (int(tx['fee'] or '0')) / 1e18,\n",
    "    }\n",
    "\n",
    "\n",
    "txs_with_multisends = [parse_transaction_alt(safe, tx) for safe in safe_txs for tx in safe_txs[safe]]"
   ]
  },
  {
   "cell_type": "code",
   "execution_count": 10,
   "metadata": {
    "colab": {
     "base_uri": "https://localhost:8080/",
     "height": 538
    },
    "id": "zBb4IKnrp7q0",
    "outputId": "a9320b60-e5c7-4cb8-8295-5afc1494d36d"
   },
   "outputs": [
    {
     "name": "stdout",
     "output_type": "stream",
     "text": [
      "936 142 0.2257448284861574\n"
     ]
    },
    {
     "data": {
      "text/plain": [
       "<AxesSubplot:title={'center':'safe multisend actions over time'}, xlabel='submission_date'>"
      ]
     },
     "execution_count": 10,
     "metadata": {},
     "output_type": "execute_result"
    },
    {
     "data": {
      "image/png": "[encoded data removed]",
      "text/plain": [
       "<Figure size 432x288 with 1 Axes>"
      ]
     },
     "metadata": {
      "needs_background": "light"
     },
     "output_type": "display_data"
    }
   ],
   "source": [
    "df = pd.DataFrame(txs_with_multisends)\n",
    "df = df[df.submission_date >= '2024-07-01']\n",
    "df = df[df.submission_date < '2024-10-01']\n",
    "print(df.multisend.sum(), len(df), df.fee.fillna(0).sum())\n",
    "df = df.pivot_table(['nonce', 'multisend', 'fee'], 'submission_date', 'safe')\n",
    "df['multisend'] = df.multisend.fillna(0).cumsum()\n",
    "df['nonce'] = df.nonce.fillna(method='bfill')\n",
    "df['fee'] = df.fee.fillna(0).cumsum()\n",
    "\n",
    "df['multisend'].plot(title='safe multisend actions over time')\n",
    "# plt.savefig('yearn-safes-multisend.png', dpi=300, facecolor='w')"
   ]
  },
  {
   "cell_type": "code",
   "execution_count": 20,
   "metadata": {
    "id": "vQoqm_Nop7q1"
   },
   "outputs": [
    {
     "name": "stdout",
     "output_type": "stream",
     "text": [
      "Ethereum tech\n",
      "owner\n",
      "0x225C529a6a84AE9E45F97B6692E387791c3Ee8E8    35\n",
      "0x8cC8c75013D561Ad81D7d08591836Fc78585aE34    34\n",
      "0xb9b7Db94D57fe25907620eAae42b9780176CceeA    34\n",
      "0xFd660518dC1b52d9F67FAcd42bbBA962B06b8E54    33\n",
      "0xf33Ea4EE285B5DAC9a6163d8939699d59a7199BA    26\n",
      "0xA0BaCE512E2904ccFDD24AB56feea6621ce14613    20\n",
      "0x198c4D019BefE68415351E2C0F9b05585cfAAa5b    17\n",
      "0xb195a8CF4898E6DDc92e435cb118E9842456A45A     7\n",
      "0x0Cec743b8CE4Ef8802cAc0e5df18a180ed8402A7     4\n",
      "Name: nonce, dtype: int64\n",
      "Ethereum treasury\n",
      "owner\n",
      "0xf3D476566BCC8E882A3910F1471428522449d89E    19\n",
      "0xAa163c47065c22D17Ed1c47E3E244337D2056c17    18\n",
      "0xC16C60fcDe4c2D4B4C53bE2680602d6938aC9eC9    18\n",
      "0x6D526f6b4C86FBdc8e359e6bef4Cd6a42aceA2d7    17\n",
      "0x23e85dB353bFDa25329c4e12b98Aa991F541eA2d    13\n",
      "0x84641137BaC4Db68DE94Ec3D2ED89acE0AA88f20     5\n",
      "0xD4a53DfC19Df4C950428db1532cba2223fb3a752     3\n",
      "0x585d9e95871C82eEC89c906C9eb1f562078aE969     1\n",
      "0x786A4Eb282a6332871e4BaD890cE5960f1d12813     1\n",
      "Name: nonce, dtype: int64\n",
      "Ethereum fee\n",
      "owner\n",
      "0xAa163c47065c22D17Ed1c47E3E244337D2056c17    6\n",
      "0xf3D476566BCC8E882A3910F1471428522449d89E    6\n",
      "0x6D526f6b4C86FBdc8e359e6bef4Cd6a42aceA2d7    5\n",
      "0x84641137BaC4Db68DE94Ec3D2ED89acE0AA88f20    5\n",
      "0xC16C60fcDe4c2D4B4C53bE2680602d6938aC9eC9    5\n",
      "0x23e85dB353bFDa25329c4e12b98Aa991F541eA2d    3\n",
      "Name: nonce, dtype: int64\n",
      "Arbitrum tech\n",
      "owner\n",
      "0x225C529a6a84AE9E45F97B6692E387791c3Ee8E8    30\n",
      "0x8cC8c75013D561Ad81D7d08591836Fc78585aE34    30\n",
      "0xf33Ea4EE285B5DAC9a6163d8939699d59a7199BA    29\n",
      "0xFd660518dC1b52d9F67FAcd42bbBA962B06b8E54    23\n",
      "0xb9b7Db94D57fe25907620eAae42b9780176CceeA    21\n",
      "0xb195a8CF4898E6DDc92e435cb118E9842456A45A    18\n",
      "0xA0BaCE512E2904ccFDD24AB56feea6621ce14613    15\n",
      "0x198c4D019BefE68415351E2C0F9b05585cfAAa5b     8\n",
      "0x0Cec743b8CE4Ef8802cAc0e5df18a180ed8402A7     5\n",
      "0x66a3c94814dc3a37C9d61f1a977ea3730c621426     1\n",
      "Name: nonce, dtype: int64\n",
      "Arbitrum fee\n",
      "owner\n",
      "0x23e85dB353bFDa25329c4e12b98Aa991F541eA2d    4\n",
      "0x6D526f6b4C86FBdc8e359e6bef4Cd6a42aceA2d7    4\n",
      "0xC16C60fcDe4c2D4B4C53bE2680602d6938aC9eC9    4\n",
      "0xf3D476566BCC8E882A3910F1471428522449d89E    4\n",
      "0xAa163c47065c22D17Ed1c47E3E244337D2056c17    3\n",
      "0x84641137BaC4Db68DE94Ec3D2ED89acE0AA88f20    1\n",
      "Name: nonce, dtype: int64\n",
      "Optimism tech\n",
      "owner\n",
      "0x225C529a6a84AE9E45F97B6692E387791c3Ee8E8    37\n",
      "0x8cC8c75013D561Ad81D7d08591836Fc78585aE34    37\n",
      "0xf33Ea4EE285B5DAC9a6163d8939699d59a7199BA    37\n",
      "0xFd660518dC1b52d9F67FAcd42bbBA962B06b8E54    30\n",
      "0xb195a8CF4898E6DDc92e435cb118E9842456A45A    28\n",
      "0xb9b7Db94D57fe25907620eAae42b9780176CceeA    24\n",
      "0xA0BaCE512E2904ccFDD24AB56feea6621ce14613    15\n",
      "0x198c4D019BefE68415351E2C0F9b05585cfAAa5b     9\n",
      "0x0Cec743b8CE4Ef8802cAc0e5df18a180ed8402A7     4\n",
      "0x66a3c94814dc3a37C9d61f1a977ea3730c621426     1\n",
      "Name: nonce, dtype: int64\n",
      "Optimism fee\n",
      "no txs\n"
     ]
    }
   ],
   "source": [
    "for safe in safe_txs:\n",
    "    print( safe )\n",
    "    df = pd.DataFrame(get_confirmations(safe_txs[safe]))\n",
    "    #df['owner'] = df['owner'].apply(owner_map.get)\n",
    "    if (len(df.index) > 0):\n",
    "        df = df[df.is_executed]\n",
    "        df = df[df.submission_date >= '2024-07-01']\n",
    "        df = df[df.submission_date < '2024-10-01']\n",
    "        total = len(df.nonce.unique())\n",
    "        print( (df.groupby('owner').count().sort_values('nonce', ascending=False)).nonce )\n",
    "    else:\n",
    "        print( \"no txs\")"
   ]
  },
  {
   "cell_type": "code",
   "execution_count": null,
   "metadata": {
    "id": "jFYQ0SVip7q1"
   },
   "outputs": [],
   "source": []
  },
  {
   "cell_type": "code",
   "execution_count": null,
   "metadata": {
    "id": "o0fOx68Fp7q1"
   },
   "outputs": [],
   "source": []
  },
  {
   "cell_type": "code",
   "execution_count": null,
   "metadata": {
    "id": "TVLCEi7yp7q1"
   },
   "outputs": [],
   "source": []
  },
  {
   "cell_type": "code",
   "execution_count": null,
   "metadata": {
    "id": "4xeA0jvmp7q1"
   },
   "outputs": [],
   "source": []
  },
  {
   "cell_type": "code",
   "execution_count": null,
   "metadata": {
    "id": "3Cr304G3p7q1"
   },
   "outputs": [],
   "source": []
  },
  {
   "cell_type": "code",
   "execution_count": null,
   "metadata": {
    "id": "QIgxfKYVp7q1"
   },
   "outputs": [],
   "source": []
  }
 ],
 "metadata": {
  "colab": {
   "provenance": []
  },
  "kernelspec": {
   "display_name": "Python 3 (ipykernel)",
   "language": "python",
   "name": "python3"
  },
  "language_info": {
   "codemirror_mode": {
    "name": "ipython",
    "version": 3
   },
   "file_extension": ".py",
   "mimetype": "text/x-python",
   "name": "python",
   "nbconvert_exporter": "python",
   "pygments_lexer": "ipython3",
   "version": "3.10.0"
  }
 },
 "nbformat": 4,
 "nbformat_minor": 1
}
