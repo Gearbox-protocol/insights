{
 "cells": [
  {
   "cell_type": "code",
   "execution_count": 9,
   "id": "3f2e24a9",
   "metadata": {},
   "outputs": [],
   "source": [
    "\n",
    "import os\n",
    "from dotenv import load_dotenv \n",
    "import pandas as pd\n",
    "import requests\n",
    "import json\n",
    "import datetime\n",
    "\n",
    "\n",
    "\n",
    "load_dotenv() # add this line\n",
    "providerRPC = os.getenv('RPC_NODE')\n",
    "\n"
   ]
  },
  {
   "cell_type": "code",
   "execution_count": 2,
   "id": "1dd0623f",
   "metadata": {},
   "outputs": [],
   "source": [
    "from web3 import Web3\n",
    "import json \n",
    "\n",
    "\n",
    "w3 = Web3(Web3.HTTPProvider(providerRPC))\n"
   ]
  },
  {
   "cell_type": "code",
   "execution_count": 3,
   "id": "07b769ed",
   "metadata": {},
   "outputs": [],
   "source": [
    "vestingsAbi = json.loads( '[{\"anonymous\":false,\"inputs\":[{\"indexed\":false,\"internalType\":\"address\",\"name\":\"oldWallet\",\"type\":\"address\"},{\"indexed\":false,\"internalType\":\"address\",\"name\":\"newWallet\",\"type\":\"address\"}],\"name\":\"ReceiverChanged\",\"type\":\"event\"},{\"inputs\":[],\"name\":\"available\",\"outputs\":[{\"internalType\":\"uint256\",\"name\":\"\",\"type\":\"uint256\"}],\"stateMutability\":\"view\",\"type\":\"function\"},{\"inputs\":[],\"name\":\"claim\",\"outputs\":[],\"stateMutability\":\"nonpayable\",\"type\":\"function\"},{\"inputs\":[],\"name\":\"claimable\",\"outputs\":[{\"internalType\":\"uint256\",\"name\":\"\",\"type\":\"uint256\"}],\"stateMutability\":\"view\",\"type\":\"function\"},{\"inputs\":[],\"name\":\"claimed\",\"outputs\":[{\"internalType\":\"uint256\",\"name\":\"\",\"type\":\"uint256\"}],\"stateMutability\":\"view\",\"type\":\"function\"},{\"inputs\":[],\"name\":\"cliffAmount\",\"outputs\":[{\"internalType\":\"uint256\",\"name\":\"\",\"type\":\"uint256\"}],\"stateMutability\":\"view\",\"type\":\"function\"},{\"inputs\":[],\"name\":\"cliffDuration\",\"outputs\":[{\"internalType\":\"uint256\",\"name\":\"\",\"type\":\"uint256\"}],\"stateMutability\":\"view\",\"type\":\"function\"},{\"inputs\":[{\"internalType\":\"address\",\"name\":\"delegatee\",\"type\":\"address\"}],\"name\":\"delegate\",\"outputs\":[],\"stateMutability\":\"nonpayable\",\"type\":\"function\"},{\"inputs\":[{\"internalType\":\"contract IGearToken\",\"name\":\"_token\",\"type\":\"address\"},{\"internalType\":\"uint256\",\"name\":\"_started\",\"type\":\"uint256\"},{\"internalType\":\"uint256\",\"name\":\"_cliffDuration\",\"type\":\"uint256\"},{\"internalType\":\"uint256\",\"name\":\"_stepDuration\",\"type\":\"uint256\"},{\"internalType\":\"uint256\",\"name\":\"_cliffAmount\",\"type\":\"uint256\"},{\"internalType\":\"uint256\",\"name\":\"_stepAmount\",\"type\":\"uint256\"},{\"internalType\":\"uint256\",\"name\":\"_numOfSteps\",\"type\":\"uint256\"},{\"internalType\":\"address\",\"name\":\"_receiver\",\"type\":\"address\"}],\"name\":\"initialize\",\"outputs\":[],\"stateMutability\":\"nonpayable\",\"type\":\"function\"},{\"inputs\":[],\"name\":\"numOfSteps\",\"outputs\":[{\"internalType\":\"uint256\",\"name\":\"\",\"type\":\"uint256\"}],\"stateMutability\":\"view\",\"type\":\"function\"},{\"inputs\":[],\"name\":\"receiver\",\"outputs\":[{\"internalType\":\"address\",\"name\":\"\",\"type\":\"address\"}],\"stateMutability\":\"view\",\"type\":\"function\"},{\"inputs\":[{\"internalType\":\"address\",\"name\":\"_receiver\",\"type\":\"address\"}],\"name\":\"setReceiver\",\"outputs\":[],\"stateMutability\":\"nonpayable\",\"type\":\"function\"},{\"inputs\":[],\"name\":\"started\",\"outputs\":[{\"internalType\":\"uint256\",\"name\":\"\",\"type\":\"uint256\"}],\"stateMutability\":\"view\",\"type\":\"function\"},{\"inputs\":[],\"name\":\"stepAmount\",\"outputs\":[{\"internalType\":\"uint256\",\"name\":\"\",\"type\":\"uint256\"}],\"stateMutability\":\"view\",\"type\":\"function\"},{\"inputs\":[],\"name\":\"stepDuration\",\"outputs\":[{\"internalType\":\"uint256\",\"name\":\"\",\"type\":\"uint256\"}],\"stateMutability\":\"view\",\"type\":\"function\"},{\"inputs\":[],\"name\":\"token\",\"outputs\":[{\"internalType\":\"contract IGearToken\",\"name\":\"\",\"type\":\"address\"}],\"stateMutability\":\"view\",\"type\":\"function\"}]' )"
   ]
  },
  {
   "cell_type": "code",
   "execution_count": 4,
   "id": "46b469de",
   "metadata": {},
   "outputs": [],
   "source": [
    "def initContract( address, abi ):\n",
    "    checksumAddr = Web3.toChecksumAddress( address )\n",
    "    contract = w3.eth.contract(checksumAddr, abi=abi )\n",
    "    return contract"
   ]
  },
  {
   "cell_type": "code",
   "execution_count": 15,
   "id": "06375e1c",
   "metadata": {},
   "outputs": [
    {
     "name": "stdout",
     "output_type": "stream",
     "text": [
      "address, reciever, start,end, cliff_amount, total_vested\n",
      "0xeb6C58D4194a335501C7E6bF7A1B9b9413CDb241 ,  0xdeA001A039FB211C6154DFbcB9583416ee18DaBa , 2023-06-29 15:21:59 ,  2030-02-22 14:48:39 ,  800000.0\n"
     ]
    }
   ],
   "source": [
    "vestings = [\n",
    "    '0xeb6C58D4194a335501C7E6bF7A1B9b9413CDb241',\n",
    "]\n",
    "\n",
    "print(\"address, reciever, start,end, cliff_amount, total_vested\")\n",
    "for i in range( len(vestings)):\n",
    "    address = vestings[i];\n",
    "    contract = initContract( address, vestingsAbi )\n",
    "    reciever = contract.functions.receiver().call()\n",
    "    cliffAmount = contract.functions.cliffAmount().call()\n",
    "    cliffDuration = contract.functions.cliffDuration().call()\n",
    "\n",
    "    started = contract.functions.started().call()\n",
    "    \n",
    "    stepAmount = contract.functions.stepAmount().call()\n",
    "    stepDuration = contract.functions.stepDuration().call()\n",
    "\n",
    "    numOfSteps = contract.functions.numOfSteps().call()\n",
    "\n",
    "    startTime = datetime.datetime.fromtimestamp( started+cliffDuration)\n",
    "    endTime = datetime.datetime.fromtimestamp( started+cliffDuration+stepDuration*numOfSteps)\n",
    "    amount = stepAmount * numOfSteps / 1000000000000000000\n",
    "    \n",
    "    if ( cliffAmount > 0 ):\n",
    "        print( address, \", err: cliff amount not 0!\")\n",
    "    print(address,\", \", reciever, \",\", startTime, \", \", endTime, \", \", amount)"
   ]
  },
  {
   "cell_type": "code",
   "execution_count": null,
   "id": "10e7100f",
   "metadata": {},
   "outputs": [],
   "source": []
  }
 ],
 "metadata": {
  "kernelspec": {
   "display_name": "Python 3 (ipykernel)",
   "language": "python",
   "name": "python3"
  },
  "language_info": {
   "codemirror_mode": {
    "name": "ipython",
    "version": 3
   },
   "file_extension": ".py",
   "mimetype": "text/x-python",
   "name": "python",
   "nbconvert_exporter": "python",
   "pygments_lexer": "ipython3",
   "version": "3.10.0"
  }
 },
 "nbformat": 4,
 "nbformat_minor": 5
}
